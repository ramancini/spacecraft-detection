{
 "cells": [
  {
   "cell_type": "markdown",
   "metadata": {},
   "source": [
    "## Imports"
   ]
  },
  {
   "cell_type": "code",
   "execution_count": 1,
   "metadata": {},
   "outputs": [],
   "source": [
    "import os\n",
    "import io\n",
    "import tarfile as tf\n",
    "import pandas as pd\n",
    "\n",
    "from PIL import Image, ImageDraw\n",
    "from IPython.display import display"
   ]
  },
  {
   "cell_type": "markdown",
   "metadata": {},
   "source": [
    "## Grab and show image"
   ]
  },
  {
   "cell_type": "code",
   "execution_count": null,
   "metadata": {},
   "outputs": [],
   "source": [
    "i_idx = 0\n",
    "\n",
    "img_labels = pd.read_csv(\"../compressed_data/train_labels.csv\")\n",
    "img_dir = \"../compressed_data/images/\"\n",
    "\n",
    "for idx in range(i_idx, i_idx+5):\n",
    "\n",
    "    # Get the image name associated with the given idx\n",
    "    img_name = img_labels.iloc[idx, 0]\n",
    "    label = img_labels.iloc[idx, 1:]\n",
    "    \n",
    "    full_img_name = \"images/\" + img_name + \".png\"\n",
    "    \n",
    "    # Get which tar file to grab image from\n",
    "    tar_path = os.path.join(img_dir, img_name[0] + \".tar\")\n",
    "    \n",
    "    # Grab image from tar file\n",
    "    with tf.open(tar_path, \"r\") as src_tar:\n",
    "        member = src_tar.getmember(full_img_name)\n",
    "        image = src_tar.extractfile(member)\n",
    "        image = Image.open(io.BytesIO(image.read()))\n",
    "    \n",
    "    # Draw bounding box on image\n",
    "    \n",
    "    draw = ImageDraw.Draw(image)\n",
    "    draw.rectangle(((label.xmin, label.ymin), (label.xmax, label.ymax)), outline=\"red\")\n",
    "    display(image)"
   ]
  },
  {
   "cell_type": "code",
   "execution_count": null,
   "metadata": {},
   "outputs": [],
   "source": []
  }
 ],
 "metadata": {
  "kernelspec": {
   "display_name": "Python 3 (ipykernel)",
   "language": "python",
   "name": "python3"
  },
  "language_info": {
   "codemirror_mode": {
    "name": "ipython",
    "version": 3
   },
   "file_extension": ".py",
   "mimetype": "text/x-python",
   "name": "python",
   "nbconvert_exporter": "python",
   "pygments_lexer": "ipython3",
   "version": "3.11.5"
  }
 },
 "nbformat": 4,
 "nbformat_minor": 4
}
